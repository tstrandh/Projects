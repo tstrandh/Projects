{
    "cells": [
        {
            "cell_type": "markdown",
            "metadata": {
                "collapsed": true
            },
            "source": "### Introduction / Business Problem: \nA Toronto-based beer brewery recently started bottling its beer. Instead of using a distributor to sell and deliver beer to stores in Toronto, the brewery decided to distribute its beer independently. Since the brewery is young, the owner decided only to distribute to on-premise accounts (places where beer is sold and consumed \"on-premise\", which includes bars, clubs, and restaurants, as opposed to grocery and convenience stores which are \"off-premise\" accounts). The brewery is also constrained by owning only one delivery truck which is not refrigerated. In order to maintain a quality product, the owner does not want to distrubute further than 10 miles from the brewery in an unrefrigerated truck. \n\nThe owner does not have any confirmed accounts yet, but he wants to understand what a delivery route would look like if he has the capacity to supply 50 stores within a 10 mile radius of brewery with one delivery per week. The owner wants to filter this projected route based on the most popular 50 on-premise stores within the search area. The end product will be a map with 50 store points segmented into clusters and color-coded by delivery day of the week (Monday through Friday). \n\nThe data I will need for this project will come from Foursquare API. I will filter search results by the following criteria: within 10 miles of the brewery; only include \"bars\", \"resturants\", and \"clubs\"; and pick the 50 most popular stores amongst those. The rest of the project can be completed using the data science functions we have been taught. \n\nThe target audience for this data is business owners, distributors, and sales representatives who want to optimize their route selection for sales and deliver of their products. "
        },
        {
            "cell_type": "code",
            "execution_count": null,
            "metadata": {},
            "outputs": [],
            "source": ""
        }
    ],
    "metadata": {
        "kernelspec": {
            "display_name": "Python 3.6",
            "language": "python",
            "name": "python3"
        },
        "language_info": {
            "codemirror_mode": {
                "name": "ipython",
                "version": 3
            },
            "file_extension": ".py",
            "mimetype": "text/x-python",
            "name": "python",
            "nbconvert_exporter": "python",
            "pygments_lexer": "ipython3",
            "version": "3.6.9"
        }
    },
    "nbformat": 4,
    "nbformat_minor": 1
}